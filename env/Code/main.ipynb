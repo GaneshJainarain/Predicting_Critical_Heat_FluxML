{
 "cells": [
  {
   "cell_type": "markdown",
   "metadata": {},
   "source": [
    "<h1 align=\"center\"><font color='#FF332A'>Feature Imputation with a Heat Flux Dataset</font></h1>\n"
   ]
  },
  {
   "cell_type": "markdown",
   "metadata": {},
   "source": [
    "<center>\n",
    "<img src=\"https://media.tenor.com/QPK8ZI4onq4AAAAd/metal-warm.gif\n",
    "\"width=600>\n",
    "</center>"
   ]
  },
  {
   "cell_type": "markdown",
   "metadata": {},
   "source": [
    "# <font color='#FF332A'>Table of contents<font><a class='anchor' id='top'></a>\n",
    "- [Heat Flux](#1)\n",
    "    - [Task & Understanding the task:](#2)\n",
    "- [Data Understanding I](#3)\n",
    "    - [Data Understanding II](#4)\n",
    "- [Importing Libraries & Data](#6)\n",
    "    - [Load Data Modelling Libraries](#7)\n",
    "- [Making our datasets available in our coding environment](#8)\n",
    "    - [Reading in our csv files and putting them into a dataframe object](#9)\n",
    "- [Data Explorer Class Implementation](#10)"
   ]
  },
  {
   "cell_type": "markdown",
   "metadata": {},
   "source": [
    "<h1 align=\"center\"><font color='#FF332A'>Task & Understanding the Task:</font></h1>\n"
   ]
  },
  {
   "cell_type": "markdown",
   "metadata": {},
   "source": [
    "<div style=\"border: 2px solid #FF332A; padding: 10px; background-color: rgba(255, 190, 71, 0.8); color: black;\">\n",
    "    Our objective is to impute the missing values of the feature x_e_out [-] (equilibrium quality) in the competition dataset.\n",
    " </div>\n",
    "\n",
    "<div style=\"border: 2px solid #FF332A; padding: 10px; background-color: rgba(255, 190, 71, 0.8); color: black;\">\n",
    "    This likely indicates a task related to data preprocessing or data cleaning, where the missing values need to be handled before further analysis or modeling.\n",
    "\n",
    "\n",
    "</div>\n",
    "\n",
    "<div style=\"border: 2px solid #FF332A; padding: 10px; background-color: rgba(255, 190, 71, 0.8); color: black;\">\n",
    "    Imputation is a statistical technique used to fill in missing values or estimate the values of variables that are incomplete or unavailable in a dataset. When working with real-world data, it is common to encounter missing values due to various reasons such as data entry errors, equipment malfunctions, survey non-response, or incomplete data collection.\n",
    "\n",
    "</div>\n",
    "\n",
    "<div style=\"border: 2px solid #FF332A; padding: 10px; background-color: rgba(255, 190, 71, 0.8); color: black;\">\n",
    "    The process of imputation involves using the information available in the dataset to estimate the missing values based on patterns, relationships, or characteristics of the other variables. By imputing missing values, analysts can ensure that the dataset remains complete and can be used for further analysis or modeling.\n",
    "</div>\n",
    "\n",
    "<div style=\"border: 2px solid #FF332A; padding: 10px; background-color: rgba(255, 190, 71, 0.8); color: black;\">\n",
    "    Imputation is an important step in data preprocessing as it allows for the utilization of the complete dataset and helps minimize bias in subsequent analyses or modeling tasks.\n",
    "</div>\n",
    "\n"
   ]
  },
  {
   "cell_type": "markdown",
   "metadata": {},
   "source": [
    "<h1 align=\"center\"><font color='#FF332A'>Data Understanding I</font></h1>\n"
   ]
  },
  {
   "cell_type": "markdown",
   "metadata": {},
   "source": [
    "<div style=\"border: 2px solid #FF332A; padding: 10px; background-color: rgba(255, 190, 71, 0.8); color: black;\">\n",
    "Dataset Description: \n",
    "\n",
    "The dataset for this competition (both train and test) was generated from a deep learning model trained on the Predicting Critical Heat Flux dataset. Feature distributions are close to, but not exactly the same, as the original. \n",
    "\n",
    "Files\n",
    "\n",
    "data.csv - the competition dataset; your objective is to impute the missing values of the feature x_e_out[-] (equilibrium quality)\n",
    "\n",
    "sample_submission.csv - a sample submission file in the correct format\n",
    " </div>\n",
    "\n",
    "\n",
    "<div style=\"border: 2px solid #FF332A; padding: 10px; background-color: rgba(255, 190, 71, 0.8); color: black;\">\n",
    "   Original Dataset:\n",
    "   \n",
    "\n",
    "This dataset was prepared for the journal article entitled \"On the prediction of critical heat flux using a physics-informed machine learning-aided framework\" (doi: 10.1016/j.applthermaleng.2019.114540). The dataset contains processed and compiled records of experimental critical heat flux and boundary conditions used for the work presented in the article.\n",
    "\n",
    "Data_CHF_Zhao_2020_ATE.csv\n",
    "</div>\n",
    "\n"
   ]
  },
  {
   "cell_type": "code",
   "execution_count": 5,
   "metadata": {},
   "outputs": [],
   "source": [
    "from IPython.display import HTML, display\n",
    "from IPython import get_ipython\n",
    "\n",
    "def set_background(color):\n",
    "    script = (\"var cell = this.closest('.code_cell');\"\n",
    "              \"var editor = cell.querySelector('.input_area');\"\n",
    "              \"editor.style.background='{}';\"\n",
    "              \"this.parentNode.removeChild(this)\"\n",
    "             ).format(color)\n",
    "    display(HTML('<img src onerror=\"{}\">'.format(script)))\n",
    "\n",
    "\n"
   ]
  },
  {
   "cell_type": "code",
   "execution_count": 6,
   "metadata": {},
   "outputs": [
    {
     "data": {
      "text/html": [
       "<img src onerror=\"var cell = this.closest('.code_cell');var editor = cell.querySelector('.input_area');editor.style.background='rgba(255, 190, 71, 0.8)';this.parentNode.removeChild(this)\">"
      ],
      "text/plain": [
       "<IPython.core.display.HTML object>"
      ]
     },
     "metadata": {},
     "output_type": "display_data"
    }
   ],
   "source": [
    "\n",
    "set_background('rgba(255, 190, 71, 0.8)')"
   ]
  }
 ],
 "metadata": {
  "kernelspec": {
   "display_name": "Python 3.8.3 ('env': venv)",
   "language": "python",
   "name": "python3"
  },
  "language_info": {
   "codemirror_mode": {
    "name": "ipython",
    "version": 3
   },
   "file_extension": ".py",
   "mimetype": "text/x-python",
   "name": "python",
   "nbconvert_exporter": "python",
   "pygments_lexer": "ipython3",
   "version": "3.8.3"
  },
  "orig_nbformat": 4,
  "vscode": {
   "interpreter": {
    "hash": "238c19a6f35274cc8eb2f686229099221f702ec3a7b443c21bb1c48c0a6a429e"
   }
  }
 },
 "nbformat": 4,
 "nbformat_minor": 2
}
